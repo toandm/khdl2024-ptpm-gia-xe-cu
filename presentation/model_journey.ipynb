{
 "cells": [
  {
   "cell_type": "markdown",
   "id": "f3c1b211",
   "metadata": {},
   "source": [
    "# 2. Trích xuất và xử lý dữ liệu mô hình"
   ]
  },
  {
   "cell_type": "markdown",
   "id": "e0722b35",
   "metadata": {},
   "source": [
    "### Thiết lập ban đầu"
   ]
  },
  {
   "cell_type": "code",
   "execution_count": null,
   "id": "3245f893",
   "metadata": {},
   "outputs": [],
   "source": [
    "import pandas as pd\n",
    "import numpy as np\n",
    "import matplotlib.pyplot as plt\n",
    "import statsmodels.api as sm\n",
    "import seaborn as sns\n",
    "\n",
    "pd.options.mode.copy_on_write = True"
   ]
  },
  {
   "cell_type": "code",
   "execution_count": 1,
   "id": "673212a0",
   "metadata": {},
   "outputs": [],
   "source": [
    "# # For Google Colab\n",
    "# from google.colab import drive\n",
    "# from pydrive2.auth import GoogleAuth\n",
    "# from pydrive2.drive import GoogleDrive\n",
    "# from google.colab import auth\n",
    "# from oauth2client.client import GoogleCredentials\n",
    "\n",
    "# # Auth Google Drive\n",
    "# auth.authenticate_user()\n",
    "# gauth = GoogleAuth()\n",
    "# gauth.credentials = GoogleCredentials.get_application_default()\n",
    "# drive = GoogleDrive(gauth)\n",
    "\n",
    "# # Download files on Shared folder to Google Colab\n",
    "\n",
    "# # Shared folder ID\n",
    "# folder_id = \"1cv2YpR9aqRwocc8jwHLcFopfV9G0S-vH\"\n",
    "\n",
    "# # File name\n",
    "# needed_files = [\n",
    "#     \"chotot_data.csv\",\n",
    "#     \"input_scoli_2023.json\",\n",
    "#     \"model_ref_price_extra.csv\",\n",
    "#     \"model_ref_price_full.csv\",\n",
    "#     \"origin_country_multiplier.csv\",\n",
    "# ]\n",
    "\n",
    "# # Search for the file in the shared folder\n",
    "# file_list = drive.ListFile({'q': f\"'{folder_id}' in parents\"}).GetList()\n",
    "# file_list_simplified = []\n",
    "# if file_list:\n",
    "#     for file in file_list:\n",
    "#       file_name = file['title']\n",
    "#       file_id = file['id']\n",
    "#       if file_name in needed_files:\n",
    "#         file_list_simplified.append({\n",
    "#             file_name: file_id\n",
    "#         })\n",
    "\n",
    "#         # Download the file to Colab\n",
    "#         downloaded = drive.CreateFile({'id': file_id})\n",
    "#         downloaded.GetContentFile(file_name)\n",
    "\n",
    "# MODEL_REF_PRICE_PATH = \"model_ref_price_full.csv\"\n",
    "# MODEL_REF_EXTRA_PRICE_PATH = \"model_ref_price_extra.csv\"\n",
    "# COUNTRY_MULTIPLIER_PATH = \"origin_country_multiplier.csv\"\n",
    "# SCOLI_PATH = \"input_scoli_2023.json\"\n",
    "# INPUT_FILE_PATH = \"chotot_data.csv\"\n",
    "\n",
    "\n",
    "# For VSCode\n",
    "MODEL_REF_PRICE_PATH = \"../data/raw/model_ref_price_full.csv\"\n",
    "MODEL_REF_EXTRA_PRICE_PATH = \"../data/raw/model_ref_price_extra.csv\"\n",
    "COUNTRY_MULTIPLIER_PATH = \"../data/raw/origin_country_multiplier.csv\"\n",
    "SCOLI_PATH = \"../data/raw/input_scoli_2023.json\"\n",
    "INPUT_FILE_PATH = \"../data/raw/chotot_data.csv\""
   ]
  },
  {
   "cell_type": "markdown",
   "id": "92206432",
   "metadata": {},
   "source": [
    "## 2.2. Tiền xử lý dữ liệu"
   ]
  },
  {
   "cell_type": "markdown",
   "id": "8f864675",
   "metadata": {},
   "source": [
    "## 2.3. EDA các biến"
   ]
  },
  {
   "cell_type": "markdown",
   "id": "f789697e",
   "metadata": {},
   "source": [
    "# 3. Tạo mô hình"
   ]
  },
  {
   "cell_type": "markdown",
   "id": "a4a4b666",
   "metadata": {},
   "source": [
    "## 3.1. Các loại mô hình phù hợp (slide)"
   ]
  },
  {
   "cell_type": "markdown",
   "id": "d7335906",
   "metadata": {},
   "source": [
    "## 3.2. Mô hình hồi quy"
   ]
  },
  {
   "cell_type": "markdown",
   "id": "943e5fda",
   "metadata": {},
   "source": [
    "## 3.3. Mô hình Random Forest"
   ]
  },
  {
   "cell_type": "markdown",
   "id": "6ff0c802",
   "metadata": {},
   "source": [
    "## 3.4. So sánh hai mô hình (slide)"
   ]
  }
 ],
 "metadata": {
  "kernelspec": {
   "display_name": ".venv",
   "language": "python",
   "name": "python3"
  },
  "language_info": {
   "codemirror_mode": {
    "name": "ipython",
    "version": 3
   },
   "file_extension": ".py",
   "mimetype": "text/x-python",
   "name": "python",
   "nbconvert_exporter": "python",
   "pygments_lexer": "ipython3",
   "version": "3.11.5"
  }
 },
 "nbformat": 4,
 "nbformat_minor": 5
}
