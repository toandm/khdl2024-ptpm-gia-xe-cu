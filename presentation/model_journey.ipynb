{
 "cells": [
  {
   "cell_type": "markdown",
   "id": "f3c1b211",
   "metadata": {},
   "source": [
    "# 2. Trích xuất và xử lý dữ liệu mô hình"
   ]
  },
  {
   "cell_type": "markdown",
   "id": "e0722b35",
   "metadata": {},
   "source": [
    "### Thiết lập ban đầu"
   ]
  },
  {
   "cell_type": "code",
   "execution_count": 3,
   "id": "3245f893",
   "metadata": {},
   "outputs": [],
   "source": [
    "import pandas as pd\n",
    "import numpy as np\n",
    "import matplotlib.pyplot as plt\n",
    "import statsmodels.api as sm\n",
    "import seaborn as sns\n",
    "\n",
    "pd.options.mode.copy_on_write = True"
   ]
  },
  {
   "cell_type": "code",
   "execution_count": 4,
   "id": "673212a0",
   "metadata": {},
   "outputs": [],
   "source": [
    "# # For Google Colab\n",
    "# from google.colab import drive\n",
    "# from pydrive2.auth import GoogleAuth\n",
    "# from pydrive2.drive import GoogleDrive\n",
    "# from google.colab import auth\n",
    "# from oauth2client.client import GoogleCredentials\n",
    "\n",
    "# # Auth Google Drive\n",
    "# auth.authenticate_user()\n",
    "# gauth = GoogleAuth()\n",
    "# gauth.credentials = GoogleCredentials.get_application_default()\n",
    "# drive = GoogleDrive(gauth)\n",
    "\n",
    "# # Download files on Shared folder to Google Colab\n",
    "\n",
    "# # Shared folder ID\n",
    "# folder_id = \"1cv2YpR9aqRwocc8jwHLcFopfV9G0S-vH\"\n",
    "\n",
    "# # File name\n",
    "# needed_files = [\n",
    "#     \"chotot_data.csv\",\n",
    "#     \"input_scoli_2023.json\",\n",
    "#     \"model_ref_price_extra.csv\",\n",
    "#     \"model_ref_price_full.csv\",\n",
    "#     \"origin_country_multiplier.csv\",\n",
    "# ]\n",
    "\n",
    "# # Search for the file in the shared folder\n",
    "# file_list = drive.ListFile({'q': f\"'{folder_id}' in parents\"}).GetList()\n",
    "# file_list_simplified = []\n",
    "# if file_list:\n",
    "#     for file in file_list:\n",
    "#       file_name = file['title']\n",
    "#       file_id = file['id']\n",
    "#       if file_name in needed_files:\n",
    "#         file_list_simplified.append({\n",
    "#             file_name: file_id\n",
    "#         })\n",
    "\n",
    "#         # Download the file to Colab\n",
    "#         downloaded = drive.CreateFile({'id': file_id})\n",
    "#         downloaded.GetContentFile(file_name)\n",
    "\n",
    "# MODEL_REF_PRICE_PATH = \"model_ref_price_full.csv\"\n",
    "# MODEL_REF_EXTRA_PRICE_PATH = \"model_ref_price_extra.csv\"\n",
    "# COUNTRY_MULTIPLIER_PATH = \"origin_country_multiplier.csv\"\n",
    "# SCOLI_PATH = \"input_scoli_2023.json\"\n",
    "# INPUT_FILE_PATH = \"chotot_data.csv\"\n",
    "\n",
    "\n",
    "# For VSCode\n",
    "MODEL_REF_PRICE_PATH = \"../data/raw/model_ref_price_full.csv\"\n",
    "MODEL_REF_EXTRA_PRICE_PATH = \"../data/raw/model_ref_price_extra.csv\"\n",
    "COUNTRY_MULTIPLIER_PATH = \"../data/raw/origin_country_multiplier.csv\"\n",
    "SCOLI_PATH = \"../data/raw/input_scoli_2023.json\"\n",
    "INPUT_FILE_PATH = \"../data/raw/chotot_data.csv\""
   ]
  },
  {
   "cell_type": "code",
   "execution_count": 8,
   "id": "762a8445",
   "metadata": {},
   "outputs": [
    {
     "data": {
      "text/html": [
       "<div>\n",
       "<style scoped>\n",
       "    .dataframe tbody tr th:only-of-type {\n",
       "        vertical-align: middle;\n",
       "    }\n",
       "\n",
       "    .dataframe tbody tr th {\n",
       "        vertical-align: top;\n",
       "    }\n",
       "\n",
       "    .dataframe thead th {\n",
       "        text-align: right;\n",
       "    }\n",
       "</style>\n",
       "<table border=\"1\" class=\"dataframe\">\n",
       "  <thead>\n",
       "    <tr style=\"text-align: right;\">\n",
       "      <th></th>\n",
       "      <th>title</th>\n",
       "      <th>price</th>\n",
       "      <th>description</th>\n",
       "      <th>origin</th>\n",
       "      <th>location</th>\n",
       "      <th>post_time</th>\n",
       "      <th>brand</th>\n",
       "      <th>model</th>\n",
       "      <th>reg_year</th>\n",
       "      <th>mileage</th>\n",
       "      <th>condition</th>\n",
       "      <th>vehicle_type</th>\n",
       "      <th>engine_capacity</th>\n",
       "      <th>warranty</th>\n",
       "      <th>weight</th>\n",
       "      <th>url</th>\n",
       "    </tr>\n",
       "  </thead>\n",
       "  <tbody>\n",
       "    <tr>\n",
       "      <th>0</th>\n",
       "      <td>Bán xe pg 1. Đã lên đồ chơi</td>\n",
       "      <td>33.000.000 đ</td>\n",
       "      <td>Xe đã lên \\r\\nThắng đĩa sau\\r\\nBánh không ruột...</td>\n",
       "      <td>Đang cập nhật</td>\n",
       "      <td>Phường Phú Hòa, Thành phố Thủ Dầu Một, Bình Dương</td>\n",
       "      <td>Đăng 15 ngày trước</td>\n",
       "      <td>Yamaha</td>\n",
       "      <td>Dòng khác</td>\n",
       "      <td>2024</td>\n",
       "      <td>1700</td>\n",
       "      <td>Đã sử dụng</td>\n",
       "      <td>Tay côn/Moto</td>\n",
       "      <td>100 - 175 cc</td>\n",
       "      <td>Bảo hành hãng</td>\n",
       "      <td>&gt; 50 kg</td>\n",
       "      <td>/mua-ban-xe-may-thanh-pho-thu-dau-mot-binh-duo...</td>\n",
       "    </tr>\n",
       "    <tr>\n",
       "      <th>1</th>\n",
       "      <td>Xe SH 150i CBS 2017-2018 màu đỏ xe còn đẹp</td>\n",
       "      <td>60.000.000 đ</td>\n",
       "      <td>Mô tả sản phẩm: Bán xe Honda SH 150i CBS 2017-...</td>\n",
       "      <td>Việt Nam</td>\n",
       "      <td>Phường Phước Tân, Thành phố Biên Hòa, Đồng Nai</td>\n",
       "      <td>Đăng 6 giờ trước</td>\n",
       "      <td>Honda</td>\n",
       "      <td>SH</td>\n",
       "      <td>2017</td>\n",
       "      <td>10000</td>\n",
       "      <td>Đã sử dụng</td>\n",
       "      <td>Tay ga</td>\n",
       "      <td>100 - 175 cc</td>\n",
       "      <td>Bảo hành hãng</td>\n",
       "      <td>&gt; 50 kg</td>\n",
       "      <td>/mua-ban-xe-may-thanh-pho-bien-hoa-dong-nai/12...</td>\n",
       "    </tr>\n",
       "    <tr>\n",
       "      <th>2</th>\n",
       "      <td>Cần bán xe Lyberty</td>\n",
       "      <td>5.200.000 đ</td>\n",
       "      <td>Nhà thừa xe nên cần bán cho ai có nhu cầu ..</td>\n",
       "      <td>Nhật Bản</td>\n",
       "      <td>Xã Hoàng Văn Thụ, Huyện Chương Mỹ, Hà Nội</td>\n",
       "      <td>Đăng 2 giờ trước</td>\n",
       "      <td>Piaggio</td>\n",
       "      <td>Liberty</td>\n",
       "      <td>2012</td>\n",
       "      <td>500000</td>\n",
       "      <td>Đã sử dụng</td>\n",
       "      <td>Tay ga</td>\n",
       "      <td>100 - 175 cc</td>\n",
       "      <td>Bảo hành hãng</td>\n",
       "      <td>&gt; 50 kg</td>\n",
       "      <td>/mua-ban-xe-may-huyen-chuong-my-ha-noi/1228839...</td>\n",
       "    </tr>\n",
       "  </tbody>\n",
       "</table>\n",
       "</div>"
      ],
      "text/plain": [
       "                                        title         price  \\\n",
       "0                 Bán xe pg 1. Đã lên đồ chơi  33.000.000 đ   \n",
       "1  Xe SH 150i CBS 2017-2018 màu đỏ xe còn đẹp  60.000.000 đ   \n",
       "2                          Cần bán xe Lyberty   5.200.000 đ   \n",
       "\n",
       "                                         description         origin  \\\n",
       "0  Xe đã lên \\r\\nThắng đĩa sau\\r\\nBánh không ruột...  Đang cập nhật   \n",
       "1  Mô tả sản phẩm: Bán xe Honda SH 150i CBS 2017-...       Việt Nam   \n",
       "2       Nhà thừa xe nên cần bán cho ai có nhu cầu ..       Nhật Bản   \n",
       "\n",
       "                                            location           post_time  \\\n",
       "0  Phường Phú Hòa, Thành phố Thủ Dầu Một, Bình Dương  Đăng 15 ngày trước   \n",
       "1     Phường Phước Tân, Thành phố Biên Hòa, Đồng Nai    Đăng 6 giờ trước   \n",
       "2          Xã Hoàng Văn Thụ, Huyện Chương Mỹ, Hà Nội    Đăng 2 giờ trước   \n",
       "\n",
       "     brand      model reg_year  mileage   condition  vehicle_type  \\\n",
       "0   Yamaha  Dòng khác     2024     1700  Đã sử dụng  Tay côn/Moto   \n",
       "1    Honda         SH     2017    10000  Đã sử dụng        Tay ga   \n",
       "2  Piaggio    Liberty     2012   500000  Đã sử dụng        Tay ga   \n",
       "\n",
       "  engine_capacity       warranty   weight  \\\n",
       "0    100 - 175 cc  Bảo hành hãng  > 50 kg   \n",
       "1    100 - 175 cc  Bảo hành hãng  > 50 kg   \n",
       "2    100 - 175 cc  Bảo hành hãng  > 50 kg   \n",
       "\n",
       "                                                 url  \n",
       "0  /mua-ban-xe-may-thanh-pho-thu-dau-mot-binh-duo...  \n",
       "1  /mua-ban-xe-may-thanh-pho-bien-hoa-dong-nai/12...  \n",
       "2  /mua-ban-xe-may-huyen-chuong-my-ha-noi/1228839...  "
      ]
     },
     "execution_count": 8,
     "metadata": {},
     "output_type": "execute_result"
    }
   ],
   "source": [
    "df = pd.read_csv(INPUT_FILE_PATH)\n",
    "df.head(3)"
   ]
  },
  {
   "cell_type": "code",
   "execution_count": 14,
   "id": "6c235fc3",
   "metadata": {},
   "outputs": [
    {
     "data": {
      "text/html": [
       "<div>\n",
       "<style scoped>\n",
       "    .dataframe tbody tr th:only-of-type {\n",
       "        vertical-align: middle;\n",
       "    }\n",
       "\n",
       "    .dataframe tbody tr th {\n",
       "        vertical-align: top;\n",
       "    }\n",
       "\n",
       "    .dataframe thead th {\n",
       "        text-align: right;\n",
       "    }\n",
       "</style>\n",
       "<table border=\"1\" class=\"dataframe\">\n",
       "  <thead>\n",
       "    <tr style=\"text-align: right;\">\n",
       "      <th></th>\n",
       "      <th>title</th>\n",
       "      <th>price</th>\n",
       "      <th>description</th>\n",
       "      <th>origin</th>\n",
       "      <th>location</th>\n",
       "      <th>post_time</th>\n",
       "      <th>brand</th>\n",
       "      <th>model</th>\n",
       "      <th>reg_year</th>\n",
       "      <th>mileage</th>\n",
       "      <th>condition</th>\n",
       "      <th>vehicle_type</th>\n",
       "      <th>engine_capacity</th>\n",
       "      <th>warranty</th>\n",
       "      <th>weight</th>\n",
       "      <th>url</th>\n",
       "      <th>price_clean</th>\n",
       "    </tr>\n",
       "  </thead>\n",
       "  <tbody>\n",
       "    <tr>\n",
       "      <th>count</th>\n",
       "      <td>16135</td>\n",
       "      <td>16135</td>\n",
       "      <td>16135</td>\n",
       "      <td>16135</td>\n",
       "      <td>16135</td>\n",
       "      <td>16135</td>\n",
       "      <td>16135</td>\n",
       "      <td>16135</td>\n",
       "      <td>16135</td>\n",
       "      <td>16135.0</td>\n",
       "      <td>16135</td>\n",
       "      <td>16135</td>\n",
       "      <td>16135</td>\n",
       "      <td>16135</td>\n",
       "      <td>16135</td>\n",
       "      <td>16135</td>\n",
       "      <td>16135.0</td>\n",
       "    </tr>\n",
       "    <tr>\n",
       "      <th>unique</th>\n",
       "      <td>15025</td>\n",
       "      <td>1073</td>\n",
       "      <td>16048</td>\n",
       "      <td>11</td>\n",
       "      <td>2618</td>\n",
       "      <td>53</td>\n",
       "      <td>40</td>\n",
       "      <td>227</td>\n",
       "      <td>45</td>\n",
       "      <td>NaN</td>\n",
       "      <td>1</td>\n",
       "      <td>3</td>\n",
       "      <td>5</td>\n",
       "      <td>1</td>\n",
       "      <td>1</td>\n",
       "      <td>16081</td>\n",
       "      <td>NaN</td>\n",
       "    </tr>\n",
       "    <tr>\n",
       "      <th>top</th>\n",
       "      <td>Cần bán</td>\n",
       "      <td>15.000.000 đ</td>\n",
       "      <td>Mình cần bán xe như hình \\r\\nXe giấy tờ đầy đủ...</td>\n",
       "      <td>Việt Nam</td>\n",
       "      <td>Phường Bình Hưng Hoà A, Quận Bình Tân, Tp Hồ C...</td>\n",
       "      <td>Đăng 2 tháng trước</td>\n",
       "      <td>Honda</td>\n",
       "      <td>Wave</td>\n",
       "      <td>2019</td>\n",
       "      <td>NaN</td>\n",
       "      <td>Đã sử dụng</td>\n",
       "      <td>Tay ga</td>\n",
       "      <td>100 - 175 cc</td>\n",
       "      <td>Bảo hành hãng</td>\n",
       "      <td>&gt; 50 kg</td>\n",
       "      <td>/mua-ban-xe-may-thanh-pho-ba-ria-ba-ria-vung-t...</td>\n",
       "      <td>NaN</td>\n",
       "    </tr>\n",
       "  </tbody>\n",
       "</table>\n",
       "</div>"
      ],
      "text/plain": [
       "          title         price  \\\n",
       "count     16135         16135   \n",
       "unique    15025          1073   \n",
       "top     Cần bán  15.000.000 đ   \n",
       "\n",
       "                                              description    origin  \\\n",
       "count                                               16135     16135   \n",
       "unique                                              16048        11   \n",
       "top     Mình cần bán xe như hình \\r\\nXe giấy tờ đầy đủ...  Việt Nam   \n",
       "\n",
       "                                                 location           post_time  \\\n",
       "count                                               16135               16135   \n",
       "unique                                               2618                  53   \n",
       "top     Phường Bình Hưng Hoà A, Quận Bình Tân, Tp Hồ C...  Đăng 2 tháng trước   \n",
       "\n",
       "        brand  model reg_year  mileage   condition vehicle_type  \\\n",
       "count   16135  16135    16135  16135.0       16135        16135   \n",
       "unique     40    227       45      NaN           1            3   \n",
       "top     Honda   Wave     2019      NaN  Đã sử dụng       Tay ga   \n",
       "\n",
       "       engine_capacity       warranty   weight  \\\n",
       "count            16135          16135    16135   \n",
       "unique               5              1        1   \n",
       "top       100 - 175 cc  Bảo hành hãng  > 50 kg   \n",
       "\n",
       "                                                      url  price_clean  \n",
       "count                                               16135      16135.0  \n",
       "unique                                              16081          NaN  \n",
       "top     /mua-ban-xe-may-thanh-pho-ba-ria-ba-ria-vung-t...          NaN  "
      ]
     },
     "execution_count": 14,
     "metadata": {},
     "output_type": "execute_result"
    }
   ],
   "source": [
    "df.describe(include=\"all\").head(3)\n",
    "# Loại bỏ các biến condition, warranty, weight\n",
    "# vehicle_type, engine_capacity là thuộc tính của mẫu xe > chỉ cần giữ lại model"
   ]
  },
  {
   "cell_type": "markdown",
   "id": "92206432",
   "metadata": {},
   "source": [
    "## 2.2. Tiền xử lý dữ liệu"
   ]
  },
  {
   "cell_type": "markdown",
   "id": "a34c59fe",
   "metadata": {},
   "source": [
    "### Làm sạch cột"
   ]
  },
  {
   "cell_type": "code",
   "execution_count": 10,
   "id": "1d66e119",
   "metadata": {},
   "outputs": [],
   "source": [
    "# Giá\n",
    "# Loại bỏ dấu chấm và chữ đ, chuyển thành dạng số\n",
    "df[\"price_clean\"] = pd.to_numeric(df[\"price\"].str.replace(\"đ\", \"\").str.replace(\".\", \"\"))\n",
    "\n",
    "# Chuyển thành đơn vị nghìn đồng để số nhỏ đi, giúp dễ nhìn hơn trên biểu đồ\n",
    "df[\"price_clean\"] = df[\"price_clean\"] / 1_000"
   ]
  },
  {
   "cell_type": "code",
   "execution_count": 15,
   "id": "1d64a237",
   "metadata": {},
   "outputs": [],
   "source": [
    "# Địa điểm bán. Xử lý để chỉ giữ lại tỉnh\n",
    "df[\"province\"] = df[\"location\"].str.split(\", \").apply(lambda x: x[-1])"
   ]
  },
  {
   "cell_type": "code",
   "execution_count": null,
   "id": "27b3f04a",
   "metadata": {},
   "outputs": [],
   "source": [
    "# Năm đăng ký\n",
    "# Chuẩn hóa năm đăng ký bằng cách chuyển đổi sang định dạng số\n",
    "# Xử lý trường hợp đặc biệt \"trước năm 1980\"\n",
    "df[\"reg_year_clean\"] = pd.to_numeric(\n",
    "    df[\"reg_year\"].case_when(caselist=[(df[\"reg_year\"].eq(\"trước năm 1980\"), 1980)])\n",
    ")"
   ]
  },
  {
   "cell_type": "markdown",
   "id": "8baf2213",
   "metadata": {},
   "source": [
    "### Tạo đặc trưng mới"
   ]
  },
  {
   "cell_type": "code",
   "execution_count": null,
   "id": "842309e5",
   "metadata": {},
   "outputs": [],
   "source": [
    "# Biến đổi năm đăng ký thành biến tuổi (age) để dễ dàng hình dung độ cũ của xe\n",
    "CURRENT_YEAR = 2025\n",
    "df[\"age\"] = CURRENT_YEAR - df[\"reg_year\"]"
   ]
  },
  {
   "cell_type": "markdown",
   "id": "d9dd11b7",
   "metadata": {},
   "source": [
    "### Loại bỏ các dòng xe không rõ ràng"
   ]
  },
  {
   "cell_type": "code",
   "execution_count": null,
   "id": "bb8b3e75",
   "metadata": {},
   "outputs": [],
   "source": [
    "df_filter = df[~df[\"model\"].isin([\"Dòng khác\", \"dòng khác\"])]"
   ]
  },
  {
   "cell_type": "markdown",
   "id": "8f864675",
   "metadata": {},
   "source": [
    "## 2.3. EDA các biến"
   ]
  },
  {
   "cell_type": "markdown",
   "id": "a12f2eb8",
   "metadata": {},
   "source": [
    "### Biến phản hồi (price)"
   ]
  },
  {
   "cell_type": "markdown",
   "id": "8bece51e",
   "metadata": {},
   "source": [
    "### Biến giải thích"
   ]
  },
  {
   "cell_type": "markdown",
   "id": "dc9e3bed",
   "metadata": {},
   "source": [
    "#### Biến định lượng"
   ]
  },
  {
   "cell_type": "markdown",
   "id": "4d94c6f8",
   "metadata": {},
   "source": [
    "###### age"
   ]
  },
  {
   "cell_type": "markdown",
   "id": "4530f114",
   "metadata": {},
   "source": [
    "###### mileage"
   ]
  },
  {
   "cell_type": "markdown",
   "id": "cdd44d2d",
   "metadata": {},
   "source": [
    "##### Biến định tính"
   ]
  },
  {
   "cell_type": "markdown",
   "id": "8f4253f4",
   "metadata": {},
   "source": [
    "show data"
   ]
  },
  {
   "cell_type": "markdown",
   "id": "25c353b0",
   "metadata": {},
   "source": [
    "chuyen doi sang dang so"
   ]
  },
  {
   "cell_type": "markdown",
   "id": "32503be6",
   "metadata": {},
   "source": [
    "lay du lieu"
   ]
  },
  {
   "cell_type": "markdown",
   "id": "f789697e",
   "metadata": {},
   "source": [
    "# 3. Tạo mô hình"
   ]
  },
  {
   "cell_type": "markdown",
   "id": "a4a4b666",
   "metadata": {},
   "source": [
    "## 3.1. Các loại mô hình phù hợp (slide)"
   ]
  },
  {
   "cell_type": "markdown",
   "id": "d7335906",
   "metadata": {},
   "source": [
    "## 3.2. Mô hình hồi quy"
   ]
  },
  {
   "cell_type": "markdown",
   "id": "943e5fda",
   "metadata": {},
   "source": [
    "## 3.3. Mô hình Random Forest"
   ]
  },
  {
   "cell_type": "markdown",
   "id": "6ff0c802",
   "metadata": {},
   "source": [
    "## 3.4. So sánh hai mô hình (slide)"
   ]
  }
 ],
 "metadata": {
  "kernelspec": {
   "display_name": ".venv",
   "language": "python",
   "name": "python3"
  },
  "language_info": {
   "codemirror_mode": {
    "name": "ipython",
    "version": 3
   },
   "file_extension": ".py",
   "mimetype": "text/x-python",
   "name": "python",
   "nbconvert_exporter": "python",
   "pygments_lexer": "ipython3",
   "version": "3.11.5"
  }
 },
 "nbformat": 4,
 "nbformat_minor": 5
}
