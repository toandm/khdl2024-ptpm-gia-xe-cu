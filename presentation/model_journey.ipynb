{
 "cells": [
  {
   "cell_type": "markdown",
   "id": "f3c1b211",
   "metadata": {},
   "source": [
    "# 3. Exploratory Data Analysis (EDA)"
   ]
  },
  {
   "cell_type": "markdown",
   "id": "e0722b35",
   "metadata": {},
   "source": [
    "### Thiết lập ban đầu"
   ]
  },
  {
   "cell_type": "code",
   "execution_count": null,
   "id": "3245f893",
   "metadata": {},
   "outputs": [],
   "source": [
    "import pandas as pd\n",
    "import numpy as np\n",
    "import matplotlib.pyplot as plt\n",
    "import statsmodels.api as sm\n",
    "import seaborn as sns\n",
    "\n",
    "pd.options.mode.copy_on_write = True"
   ]
  },
  {
   "cell_type": "code",
   "execution_count": null,
   "id": "673212a0",
   "metadata": {},
   "outputs": [],
   "source": [
    "# # For Google Colab\n",
    "# from google.colab import drive\n",
    "# from pydrive2.auth import GoogleAuth\n",
    "# from pydrive2.drive import GoogleDrive\n",
    "# from google.colab import auth\n",
    "# from oauth2client.client import GoogleCredentials\n",
    "\n",
    "# # Auth Google Drive\n",
    "# auth.authenticate_user()\n",
    "# gauth = GoogleAuth()\n",
    "# gauth.credentials = GoogleCredentials.get_application_default()\n",
    "# drive = GoogleDrive(gauth)\n",
    "\n",
    "# # Download files on Shared folder to Google Colab\n",
    "\n",
    "# # Shared folder ID\n",
    "# folder_id = \"1cv2YpR9aqRwocc8jwHLcFopfV9G0S-vH\"\n",
    "\n",
    "# # File name\n",
    "# needed_files = [\n",
    "#     \"chotot_data.csv\",\n",
    "#     \"input_scoli_2023.json\",\n",
    "#     \"model_ref_price_extra.csv\",\n",
    "#     \"model_ref_price_full.csv\",\n",
    "#     \"origin_country_multiplier.csv\",\n",
    "# ]\n",
    "\n",
    "# # Search for the file in the shared folder\n",
    "# file_list = drive.ListFile({'q': f\"'{folder_id}' in parents\"}).GetList()\n",
    "# file_list_simplified = []\n",
    "# if file_list:\n",
    "#     for file in file_list:\n",
    "#       file_name = file['title']\n",
    "#       file_id = file['id']\n",
    "#       if file_name in needed_files:\n",
    "#         file_list_simplified.append({\n",
    "#             file_name: file_id\n",
    "#         })\n",
    "\n",
    "#         # Download the file to Colab\n",
    "#         downloaded = drive.CreateFile({'id': file_id})\n",
    "#         downloaded.GetContentFile(file_name)\n",
    "\n",
    "# MODEL_REF_PRICE_PATH = \"model_ref_price_full.csv\"\n",
    "# MODEL_REF_EXTRA_PRICE_PATH = \"model_ref_price_extra.csv\"\n",
    "# COUNTRY_MULTIPLIER_PATH = \"origin_country_multiplier.csv\"\n",
    "# SCOLI_PATH = \"input_scoli_2023.json\"\n",
    "# INPUT_FILE_PATH = \"chotot_data.csv\"\n",
    "\n",
    "\n",
    "# For VSCode\n",
    "MODEL_REF_PRICE_PATH = \"../data/raw/model_ref_price_full.csv\"\n",
    "MODEL_REF_EXTRA_PRICE_PATH = \"../data/raw/model_ref_price_extra.csv\"\n",
    "COUNTRY_MULTIPLIER_PATH = \"../data/raw/origin_country_multiplier.csv\"\n",
    "SCOLI_PATH = \"../data/raw/input_scoli_2023.json\"\n",
    "INPUT_FILE_PATH = \"../data/raw/chotot_data.csv\""
   ]
  },
  {
   "cell_type": "markdown",
   "id": "894be08c",
   "metadata": {},
   "source": [
    "Xem trước dữ liệu\n",
    "\n",
    "1. Làm sạch cột\n",
    "- Giá\n",
    "- Địa điểm\n",
    "- Xuất xứ: Lọc thêm thông tin \n",
    "- Năm đăng ký\n",
    "\n",
    "2. Tạo đặc trưng mới (tuổi)\n",
    "\n",
    "3. Phân tích các biến\n",
    "- Biến mục tiêu price:\n",
    "    - Vấn đề về giá trị: Histogram > Sắp xếp > Filter\n",
    "    - Vấn đề về phân phối: lệch phải > có thể cần biến đổi log\n",
    "- Biến dự đoán\n",
    "    - Biến định lượng\n",
    "        - age: histogram, scatterplot > age_log: histogram, scatterplot\n",
    "        - mileage: filter > mileage_log\n",
    "    - Biến định tính:\n",
    "        - Chuyển đổi sang dạng số: cần biến đổi sang dạng số để sử dụng trong mô hình. Thực hiện thông qua các phương pháp encoding (one-hot encoding, ordinal encoding, ...). Chuyển đổi thành con số thể hiện thứ tự của các giá trị trong biến. Con số nào gắn với mẫu xe, thể hiện mẫu xe này tốt hơn mẫu xe khác, ảnh hưởng đến giá bán xe cũ? Chính là giá bán lẻ trên thị trường. > Tìm các con số tương tự thể hiện thứ tự sắp xếp của các giá trị trong biến định tính.\n",
    "            - model: giá bán lẻ trên thị trường (model_ref_price)\n",
    "            - origin: bội số cho biết tầm ảnh hưởng của nước sản xuất đến giá bán. VD: xe Nhật giá thường cao hơn xe Trung. (origin_multiplier)\n",
    "            - location: chỉ số giá sinh hoạt, cho biết giá cả ở 1 tỉnh này đắt đỏ như nào so với tỉnh khác. (province_scoli)\n",
    "        - Lấy dữ liệu\n",
    "            - model_ref_price: crawl\n",
    "            - origin_multiplier: tự tạo\n",
    "            - province_scoli: tải từ tổng cục thống kê\n",
    "        - Biến đổi và kiểm tra quan hệ tuyến tính\n",
    "\n",
    "4. Tạo mô hình\n",
    "4.1. Các loại mô hình\n",
    "4.2. Mô hình hồi quy\n",
    "4.3. Mô hình Random Forest\n",
    "4.4. So sánh 2 mô hình"
   ]
  }
 ],
 "metadata": {
  "kernelspec": {
   "display_name": ".venv",
   "language": "python",
   "name": "python3"
  },
  "language_info": {
   "name": "python",
   "version": "3.11.5"
  }
 },
 "nbformat": 4,
 "nbformat_minor": 5
}
