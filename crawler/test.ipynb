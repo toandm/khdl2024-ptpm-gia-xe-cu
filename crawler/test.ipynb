{
 "cells": [
  {
   "cell_type": "code",
   "execution_count": 1,
   "metadata": {},
   "outputs": [],
   "source": [
    "import pandas as pd"
   ]
  },
  {
   "cell_type": "code",
   "execution_count": 7,
   "metadata": {},
   "outputs": [
    {
     "data": {
      "text/plain": [
       "0             SH\n",
       "1        Liberty\n",
       "2         Sirius\n",
       "3        Jupiter\n",
       "5          Blade\n",
       "6          Vario\n",
       "7         Future\n",
       "8         Vision\n",
       "10          Wave\n",
       "23       Exciter\n",
       "25     Air Blade\n",
       "27      Winner X\n",
       "31       SH Mode\n",
       "33        Winner\n",
       "37         Nouvo\n",
       "51           Mio\n",
       "52        Satria\n",
       "87        Raider\n",
       "90       Elegant\n",
       "96          Lead\n",
       "146       Attila\n",
       "718       Angela\n",
       "Name: model, dtype: object"
      ]
     },
     "execution_count": 7,
     "metadata": {},
     "output_type": "execute_result"
    }
   ],
   "source": [
    "df = pd.read_csv(r\"C:\\Users\\Admin\\OneDrive\\Coding\\Python\\ptpm-project\\data\\processed\\processed_training_data.csv\")\n",
    "a = df['model'].drop_duplicates()\n",
    "a"
   ]
  },
  {
   "cell_type": "code",
   "execution_count": null,
   "metadata": {},
   "outputs": [],
   "source": []
  }
 ],
 "metadata": {
  "kernelspec": {
   "display_name": ".w2venv",
   "language": "python",
   "name": "python3"
  },
  "language_info": {
   "codemirror_mode": {
    "name": "ipython",
    "version": 3
   },
   "file_extension": ".py",
   "mimetype": "text/x-python",
   "name": "python",
   "nbconvert_exporter": "python",
   "pygments_lexer": "ipython3",
   "version": "3.11.6"
  }
 },
 "nbformat": 4,
 "nbformat_minor": 2
}
